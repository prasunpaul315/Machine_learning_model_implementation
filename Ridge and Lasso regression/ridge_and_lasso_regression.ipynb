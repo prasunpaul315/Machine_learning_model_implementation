{
 "cells": [
  {
   "cell_type": "markdown",
   "id": "8c38d77c",
   "metadata": {},
   "source": [
    "### 1. Consider any dataset. You can create own or use any publicly available dataset. Pretend the goal is to predict the target variable.\n",
    "\n",
    "<p>(a) Run ridge regression (RR) on the data.</p>\n",
    "\n",
    "<pre>\n",
    "i.  Find the λ value that minimizes the cross validated error/training error\n",
    "\n",
    "ii. Provide plots for both the cross validated error/training error and the coefficients as functions of λ.\n",
    "</pre>\n",
    "\n",
    "<p>(b) Run lasso on the data.</p>\n",
    "\n",
    "<pre>\n",
    "i.  Find the λ value that minimizes the cross validated error/training error.\n",
    "\n",
    "ii. Provide plots for both the cross validated error/training error and the coefficients as functions of λ.\n",
    "</pre>\n",
    "\n",
    "<p>(c) Examine the model coefficients for the chosen λ. You can use either pair plot or bar diagram to visualize the model coefficients.</p>"
   ]
  },
  {
   "cell_type": "code",
   "execution_count": null,
   "id": "679aae6c",
   "metadata": {},
   "outputs": [],
   "source": []
  },
  {
   "cell_type": "code",
   "execution_count": null,
   "id": "2a7bba1e",
   "metadata": {},
   "outputs": [],
   "source": []
  },
  {
   "cell_type": "markdown",
   "id": "07f99ea7",
   "metadata": {},
   "source": [
    "### Importing Libraries"
   ]
  },
  {
   "cell_type": "code",
   "execution_count": 1,
   "id": "4e089f4b",
   "metadata": {},
   "outputs": [],
   "source": [
    "from sklearn.datasets import load_boston\n",
    "boston = load_boston()\n",
    "import matplotlib.pyplot as plt\n",
    "from sklearn.model_selection import train_test_split\n",
    "from tqdm import tqdm\n",
    "from sklearn.metrics import r2_score\n",
    "from sklearn.linear_model import Ridge\n",
    "from sklearn.linear_model import Lasso"
   ]
  },
  {
   "cell_type": "markdown",
   "id": "38e6c7ad",
   "metadata": {},
   "source": [
    "### Used dataset description"
   ]
  },
  {
   "cell_type": "code",
   "execution_count": 2,
   "id": "49e44642",
   "metadata": {},
   "outputs": [
    {
     "name": "stdout",
     "output_type": "stream",
     "text": [
      ".. _boston_dataset:\n",
      "\n",
      "Boston house prices dataset\n",
      "---------------------------\n",
      "\n",
      "**Data Set Characteristics:**  \n",
      "\n",
      "    :Number of Instances: 506 \n",
      "\n",
      "    :Number of Attributes: 13 numeric/categorical predictive. Median Value (attribute 14) is usually the target.\n",
      "\n",
      "    :Attribute Information (in order):\n",
      "        - CRIM     per capita crime rate by town\n",
      "        - ZN       proportion of residential land zoned for lots over 25,000 sq.ft.\n",
      "        - INDUS    proportion of non-retail business acres per town\n",
      "        - CHAS     Charles River dummy variable (= 1 if tract bounds river; 0 otherwise)\n",
      "        - NOX      nitric oxides concentration (parts per 10 million)\n",
      "        - RM       average number of rooms per dwelling\n",
      "        - AGE      proportion of owner-occupied units built prior to 1940\n",
      "        - DIS      weighted distances to five Boston employment centres\n",
      "        - RAD      index of accessibility to radial highways\n",
      "        - TAX      full-value property-tax rate per $10,000\n",
      "        - PTRATIO  pupil-teacher ratio by town\n",
      "        - B        1000(Bk - 0.63)^2 where Bk is the proportion of blacks by town\n",
      "        - LSTAT    % lower status of the population\n",
      "        - MEDV     Median value of owner-occupied homes in $1000's\n",
      "\n",
      "    :Missing Attribute Values: None\n",
      "\n",
      "    :Creator: Harrison, D. and Rubinfeld, D.L.\n",
      "\n",
      "This is a copy of UCI ML housing dataset.\n",
      "https://archive.ics.uci.edu/ml/machine-learning-databases/housing/\n",
      "\n",
      "\n",
      "This dataset was taken from the StatLib library which is maintained at Carnegie Mellon University.\n",
      "\n",
      "The Boston house-price data of Harrison, D. and Rubinfeld, D.L. 'Hedonic\n",
      "prices and the demand for clean air', J. Environ. Economics & Management,\n",
      "vol.5, 81-102, 1978.   Used in Belsley, Kuh & Welsch, 'Regression diagnostics\n",
      "...', Wiley, 1980.   N.B. Various transformations are used in the table on\n",
      "pages 244-261 of the latter.\n",
      "\n",
      "The Boston house-price data has been used in many machine learning papers that address regression\n",
      "problems.   \n",
      "     \n",
      ".. topic:: References\n",
      "\n",
      "   - Belsley, Kuh & Welsch, 'Regression diagnostics: Identifying Influential Data and Sources of Collinearity', Wiley, 1980. 244-261.\n",
      "   - Quinlan,R. (1993). Combining Instance-Based and Model-Based Learning. In Proceedings on the Tenth International Conference of Machine Learning, 236-243, University of Massachusetts, Amherst. Morgan Kaufmann.\n",
      "\n"
     ]
    }
   ],
   "source": [
    "print(boston.DESCR)"
   ]
  },
  {
   "cell_type": "code",
   "execution_count": 3,
   "id": "21a3d520",
   "metadata": {},
   "outputs": [
    {
     "name": "stdout",
     "output_type": "stream",
     "text": [
      "(506, 13)\n"
     ]
    }
   ],
   "source": [
    "# shape of dataset\n",
    "\n",
    "print(boston.data.shape)"
   ]
  },
  {
   "cell_type": "code",
   "execution_count": 4,
   "id": "24f5ef11",
   "metadata": {},
   "outputs": [
    {
     "name": "stdout",
     "output_type": "stream",
     "text": [
      "['CRIM' 'ZN' 'INDUS' 'CHAS' 'NOX' 'RM' 'AGE' 'DIS' 'RAD' 'TAX' 'PTRATIO'\n",
      " 'B' 'LSTAT']\n"
     ]
    }
   ],
   "source": [
    "# column in dataset\n",
    "\n",
    "print(boston.feature_names)"
   ]
  },
  {
   "cell_type": "code",
   "execution_count": 5,
   "id": "1cb48025",
   "metadata": {},
   "outputs": [
    {
     "name": "stdout",
     "output_type": "stream",
     "text": [
      "         0     1     2    3      4      5     6       7    8      9    10  \\\n",
      "0  0.00632  18.0  2.31  0.0  0.538  6.575  65.2  4.0900  1.0  296.0  15.3   \n",
      "1  0.02731   0.0  7.07  0.0  0.469  6.421  78.9  4.9671  2.0  242.0  17.8   \n",
      "2  0.02729   0.0  7.07  0.0  0.469  7.185  61.1  4.9671  2.0  242.0  17.8   \n",
      "3  0.03237   0.0  2.18  0.0  0.458  6.998  45.8  6.0622  3.0  222.0  18.7   \n",
      "4  0.06905   0.0  2.18  0.0  0.458  7.147  54.2  6.0622  3.0  222.0  18.7   \n",
      "\n",
      "       11    12  PRICE  \n",
      "0  396.90  4.98   24.0  \n",
      "1  396.90  9.14   21.6  \n",
      "2  392.83  4.03   34.7  \n",
      "3  394.63  2.94   33.4  \n",
      "4  396.90  5.33   36.2  \n"
     ]
    }
   ],
   "source": [
    "import pandas as pd\n",
    "bos = pd.DataFrame(boston.data)\n",
    "bos['PRICE'] = boston.target\n",
    "print(bos.head())"
   ]
  },
  {
   "cell_type": "markdown",
   "id": "6227a4c1",
   "metadata": {},
   "source": [
    "### Segregating variables: Independent and Dependent Variables"
   ]
  },
  {
   "cell_type": "code",
   "execution_count": 6,
   "id": "60a2c7ec",
   "metadata": {},
   "outputs": [],
   "source": [
    "X = bos.drop('PRICE', axis = 1)\n",
    "y = bos['PRICE']"
   ]
  },
  {
   "cell_type": "markdown",
   "id": "9c1b6a25",
   "metadata": {},
   "source": [
    "### Splitting the data into train set, cross validation set and the test set"
   ]
  },
  {
   "cell_type": "code",
   "execution_count": 7,
   "id": "2fb0758d",
   "metadata": {},
   "outputs": [],
   "source": [
    "X_train, X_test, y_train, y_test = train_test_split(X, y, test_size=0.15, random_state=48, shuffle=True)\n",
    "X_train, X_cv, y_train, y_cv = train_test_split(X_train, y_train, test_size=0.33, random_state=58, shuffle=True)"
   ]
  },
  {
   "cell_type": "code",
   "execution_count": 8,
   "id": "d10f680e",
   "metadata": {},
   "outputs": [
    {
     "name": "stdout",
     "output_type": "stream",
     "text": [
      "train data:       (288, 13) (288,)\n",
      "validation data:  (142, 13) (142,)\n",
      "test data:        (76, 13) (76,)\n"
     ]
    }
   ],
   "source": [
    "print(\"train data:      \", X_train.shape, y_train.shape)\n",
    "print(\"validation data: \", X_cv.shape, y_cv.shape)\n",
    "print(\"test data:       \", X_test.shape, y_test.shape)"
   ]
  },
  {
   "cell_type": "code",
   "execution_count": null,
   "id": "eeddff56",
   "metadata": {},
   "outputs": [],
   "source": []
  },
  {
   "cell_type": "code",
   "execution_count": null,
   "id": "acb0f784",
   "metadata": {},
   "outputs": [],
   "source": []
  },
  {
   "cell_type": "markdown",
   "id": "e38d3cca",
   "metadata": {},
   "source": [
    "### 1.(a) implementing Ridge regression"
   ]
  },
  {
   "cell_type": "code",
   "execution_count": 9,
   "id": "88340be5",
   "metadata": {},
   "outputs": [
    {
     "data": {
      "image/png": "[encoded data removed]",
      "text/plain": [
       "<Figure size 432x288 with 1 Axes>"
      ]
     },
     "metadata": {
      "needs_background": "light"
     },
     "output_type": "display_data"
    },
    {
     "name": "stdout",
     "output_type": "stream",
     "text": [
      "R^2 score:  0.6660539572095094\n"
     ]
    }
   ],
   "source": [
    "r = Ridge()  # using default parameter of Ridge, here alpha = 1\n",
    "r.fit(X_train, y_train)\n",
    "\n",
    "Y_pred_cv = r.predict(X_cv)  # predict with cross validation data\n",
    "\n",
    "plt.scatter(y_cv, Y_pred_cv)\n",
    "plt.xlabel(\"Prices: $Y_i$\")\n",
    "plt.ylabel(\"Predicted prices: $\\hat{Y}_i$\")\n",
    "plt.title(\"Prices vs Predicted prices: $Y_i$ vs $\\hat{Y}_i$\")\n",
    "#plt.plot(y_test, Y_pred, color='red')\n",
    "plt.show()\n",
    "print(\"R^2 score: \",r2_score(y_cv, Y_pred_cv))"
   ]
  },
  {
   "cell_type": "code",
   "execution_count": null,
   "id": "51648d79",
   "metadata": {},
   "outputs": [],
   "source": []
  },
  {
   "cell_type": "markdown",
   "id": "519cc199",
   "metadata": {},
   "source": [
    "### Hyperparameter tuning for Ridge regression (λ)"
   ]
  },
  {
   "cell_type": "code",
   "execution_count": 10,
   "id": "95d51b8e",
   "metadata": {},
   "outputs": [
    {
     "name": "stderr",
     "output_type": "stream",
     "text": [
      "100%|██████████| 14/14 [00:00<00:00, 96.75it/s]\n"
     ]
    },
    {
     "data": {
      "image/png": "[encoded data removed]",
      "text/plain": [
       "<Figure size 432x288 with 1 Axes>"
      ]
     },
     "metadata": {
      "needs_background": "light"
     },
     "output_type": "display_data"
    }
   ],
   "source": [
    "train_r2 = []\n",
    "cv_r2 = []\n",
    "alpha = [0.00001,0.0005, 0.0001,0.005,0.001,0.05,0.01,0.1,0.5,1,5,10,50,100]\n",
    "for i in tqdm(alpha):\n",
    "    rg=Ridge(alpha=i)\n",
    "    rg.fit(X_train, y_train)\n",
    "    \n",
    "    y_train_pred = rg.predict(X_train)\n",
    "    #print(len(y_train_pred))\n",
    "    y_cv_pred = rg.predict(X_cv)\n",
    "    #print(len(y_cv_pred))\n",
    "   \n",
    "    train_r2.append(r2_score(y_train,y_train_pred))\n",
    "    cv_r2.append(r2_score(y_cv, y_cv_pred))\n",
    "\n",
    "\n",
    "\n",
    "plt.semilogx(alpha, train_r2, label='Train r2')\n",
    "plt.semilogx(alpha, cv_r2, label='CV r2')\n",
    "\n",
    "plt.scatter(alpha, train_r2, label='Train r2')\n",
    "plt.scatter(alpha, cv_r2, label='CV r2')\n",
    "\n",
    "plt.legend()\n",
    "plt.xlabel(\"alpha: hyperparameter\")\n",
    "plt.ylabel(\"r2\")\n",
    "plt.title(\"ERROR PLOTS\")\n",
    "plt.grid()\n",
    "plt.show()"
   ]
  },
  {
   "cell_type": "markdown",
   "id": "0d7be77e",
   "metadata": {},
   "source": [
    "### Identify best λ for Ridge regression"
   ]
  },
  {
   "cell_type": "code",
   "execution_count": 11,
   "id": "2d77d59d",
   "metadata": {},
   "outputs": [
    {
     "name": "stdout",
     "output_type": "stream",
     "text": [
      "best alpha as hyperparameter of Ridge regression =  50\n",
      "best r2 score =  0.6726236444106717\n"
     ]
    }
   ],
   "source": [
    "r2 = list(cv_r2)\n",
    "max_r2 = max(r2)\n",
    "max_r2_index = r2.index(max_r2)\n",
    "\n",
    "\n",
    "best_alpha_ridge = alpha[max_r2_index]\n",
    "print(\"best alpha as hyperparameter of Ridge regression = \",best_alpha_ridge)\n",
    "best_r2_score_ridge = r2[max_r2_index]\n",
    "print(\"best r2 score = \",best_r2_score_ridge)"
   ]
  },
  {
   "cell_type": "markdown",
   "id": "8191fc71",
   "metadata": {},
   "source": [
    "### Check the R^2 value on test data with best hyperparameter (λ)"
   ]
  },
  {
   "cell_type": "code",
   "execution_count": 12,
   "id": "8fc85fa0",
   "metadata": {},
   "outputs": [
    {
     "name": "stdout",
     "output_type": "stream",
     "text": [
      "best alpha 50\n"
     ]
    }
   ],
   "source": [
    "print(\"best alpha\", best_alpha_ridge)"
   ]
  },
  {
   "cell_type": "code",
   "execution_count": 13,
   "id": "225ac433",
   "metadata": {},
   "outputs": [
    {
     "name": "stdout",
     "output_type": "stream",
     "text": [
      "R^2=  0.7584312450932488\n"
     ]
    }
   ],
   "source": [
    "ridge = Ridge(alpha=best_alpha_ridge)  # using default parameter of Ridge, here alpha = best_alpha\n",
    "ridge.fit(X_train, y_train)\n",
    "\n",
    "Y_pred = ridge.predict(X_test)\n",
    "\n",
    "plt.show()\n",
    "print(\"R^2= \",r2_score(y_test, Y_pred))"
   ]
  },
  {
   "cell_type": "code",
   "execution_count": 14,
   "id": "26c94f0a",
   "metadata": {},
   "outputs": [
    {
     "data": {
      "text/plain": [
       "array([-0.10372747,  0.06176824, -0.05144967,  0.4683435 , -0.3192696 ,\n",
       "        2.76474341,  0.00636939, -1.04465364,  0.27458077, -0.01558546,\n",
       "       -0.5967446 ,  0.00823079, -0.63408662])"
      ]
     },
     "execution_count": 14,
     "metadata": {},
     "output_type": "execute_result"
    }
   ],
   "source": [
    "ridge.coef_"
   ]
  },
  {
   "cell_type": "code",
   "execution_count": null,
   "id": "d2d0f5c8",
   "metadata": {},
   "outputs": [],
   "source": []
  },
  {
   "cell_type": "markdown",
   "id": "5cdf6dc3",
   "metadata": {},
   "source": [
    "### 1.(b) implementing Lasso regression"
   ]
  },
  {
   "cell_type": "code",
   "execution_count": 15,
   "id": "b9353668",
   "metadata": {},
   "outputs": [
    {
     "data": {
      "image/png": "[encoded data removed]",
      "text/plain": [
       "<Figure size 432x288 with 1 Axes>"
      ]
     },
     "metadata": {
      "needs_background": "light"
     },
     "output_type": "display_data"
    },
    {
     "name": "stdout",
     "output_type": "stream",
     "text": [
      "R^2 score:  0.6660539572095094\n"
     ]
    }
   ],
   "source": [
    "l = Lasso()  # using default parameter of Ridge, here alpha = 1\n",
    "l.fit(X_train, y_train)\n",
    "\n",
    "Y_pred_cv = r.predict(X_cv)  # predict with cross validation data\n",
    "\n",
    "plt.scatter(y_cv, Y_pred_cv)\n",
    "plt.xlabel(\"Prices: $Y_i$\")\n",
    "plt.ylabel(\"Predicted prices: $\\hat{Y}_i$\")\n",
    "plt.title(\"Prices vs Predicted prices: $Y_i$ vs $\\hat{Y}_i$\")\n",
    "#plt.plot(y_test, Y_pred, color='red')\n",
    "plt.show()\n",
    "print(\"R^2 score: \",r2_score(y_cv, Y_pred_cv))"
   ]
  },
  {
   "cell_type": "markdown",
   "id": "983dd20c",
   "metadata": {},
   "source": [
    "### Hyperparameter tuning for Lasso regression (λ)"
   ]
  },
  {
   "cell_type": "code",
   "execution_count": 16,
   "id": "88dbe567",
   "metadata": {},
   "outputs": [
    {
     "name": "stderr",
     "output_type": "stream",
     "text": [
      "100%|██████████| 14/14 [00:00<00:00, 289.94it/s]\n"
     ]
    },
    {
     "data": {
      "image/png": "[encoded data removed]",
      "text/plain": [
       "<Figure size 432x288 with 1 Axes>"
      ]
     },
     "metadata": {
      "needs_background": "light"
     },
     "output_type": "display_data"
    }
   ],
   "source": [
    "train_r2 = []\n",
    "cv_r2 = []\n",
    "alpha = [0.00001,0.0005, 0.0001,0.005,0.001,0.05,0.01,0.1,0.5,1,5,10,50,100]\n",
    "for i in tqdm(alpha):\n",
    "    lg=Lasso(alpha=i)\n",
    "    lg.fit(X_train, y_train)\n",
    "    \n",
    "    y_train_pred = lg.predict(X_train)\n",
    "    #print(len(y_train_pred))\n",
    "    y_cv_pred = lg.predict(X_cv)\n",
    "    #print(len(y_cv_pred))\n",
    "   \n",
    "    train_r2.append(r2_score(y_train,y_train_pred))\n",
    "    cv_r2.append(r2_score(y_cv, y_cv_pred))\n",
    "\n",
    "\n",
    "\n",
    "plt.semilogx(alpha, train_r2, label='Train r2')\n",
    "plt.semilogx(alpha, cv_r2, label='CV r2')\n",
    "\n",
    "plt.scatter(alpha, train_r2, label='Train r2')\n",
    "plt.scatter(alpha, cv_r2, label='CV r2')\n",
    "\n",
    "plt.legend()\n",
    "plt.xlabel(\"alpha: hyperparameter\")\n",
    "plt.ylabel(\"r2\")\n",
    "plt.title(\"ERROR PLOTS\")\n",
    "plt.grid()\n",
    "plt.show()"
   ]
  },
  {
   "cell_type": "markdown",
   "id": "44f2ae84",
   "metadata": {},
   "source": [
    "### Identify best λ for Lasso regression"
   ]
  },
  {
   "cell_type": "code",
   "execution_count": 17,
   "id": "b76daeef",
   "metadata": {},
   "outputs": [
    {
     "name": "stdout",
     "output_type": "stream",
     "text": [
      "best alpha as hyperparameter of Ridge regression =  0.01\n",
      "best r2 score =  0.6674958142117355\n"
     ]
    }
   ],
   "source": [
    "r2 = list(cv_r2)\n",
    "max_r2 = max(r2)\n",
    "max_r2_index = r2.index(max_r2)\n",
    "\n",
    "\n",
    "best_alpha_lasso = alpha[max_r2_index]\n",
    "print(\"best alpha as hyperparameter of Ridge regression = \",best_alpha_lasso)\n",
    "best_r2_score_lasso = r2[max_r2_index]\n",
    "print(\"best r2 score = \",best_r2_score_lasso)"
   ]
  },
  {
   "cell_type": "markdown",
   "id": "d44db243",
   "metadata": {},
   "source": [
    "### Check the R^2 value on test data with best hyperparameter (λ)"
   ]
  },
  {
   "cell_type": "code",
   "execution_count": 18,
   "id": "ba53cbd6",
   "metadata": {},
   "outputs": [
    {
     "name": "stdout",
     "output_type": "stream",
     "text": [
      "best alpha 0.01\n"
     ]
    }
   ],
   "source": [
    "print(\"best alpha\", best_alpha_lasso)"
   ]
  },
  {
   "cell_type": "code",
   "execution_count": 19,
   "id": "666bce12",
   "metadata": {},
   "outputs": [
    {
     "name": "stdout",
     "output_type": "stream",
     "text": [
      "R^2=  0.7958188120267065\n"
     ]
    }
   ],
   "source": [
    "lasso = Ridge(alpha=best_alpha_lasso)  # using default parameter of Ridge, here alpha = best_alpha\n",
    "lasso.fit(X_train, y_train)\n",
    "\n",
    "Y_pred = lasso.predict(X_test)\n",
    "\n",
    "plt.show()\n",
    "print(\"R^2= \",r2_score(y_test, Y_pred))"
   ]
  },
  {
   "cell_type": "code",
   "execution_count": 20,
   "id": "f7471330",
   "metadata": {},
   "outputs": [
    {
     "data": {
      "text/plain": [
       "array([-1.06754199e-01,  5.38966500e-02,  3.88746793e-02,  2.51363634e+00,\n",
       "       -1.89343174e+01,  4.51385045e+00,  2.74891023e-03, -1.38809267e+00,\n",
       "        2.58891691e-01, -1.36549433e-02, -7.41647535e-01,  7.55759670e-03,\n",
       "       -4.41734634e-01])"
      ]
     },
     "execution_count": 20,
     "metadata": {},
     "output_type": "execute_result"
    }
   ],
   "source": [
    "lasso.coef_"
   ]
  },
  {
   "cell_type": "markdown",
   "id": "48bd190c",
   "metadata": {},
   "source": [
    "### 1.(c) Examine the model coefficients for the chosen λ."
   ]
  },
  {
   "cell_type": "markdown",
   "id": "2553d73d",
   "metadata": {},
   "source": [
    "### Plotting the coefficients for Ridge regression considering best hyperparameter"
   ]
  },
  {
   "cell_type": "code",
   "execution_count": 21,
   "id": "f2d27356",
   "metadata": {},
   "outputs": [
    {
     "data": {
      "text/plain": [
       "Text(0.5, 1.0, 'Coefficient plot')"
      ]
     },
     "execution_count": 21,
     "metadata": {},
     "output_type": "execute_result"
    },
    {
     "data": {
      "image/png": "[encoded data removed]",
      "text/plain": [
       "<Figure size 960x720 with 1 Axes>"
      ]
     },
     "metadata": {},
     "output_type": "display_data"
    }
   ],
   "source": [
    "plt.figure(figsize=(8, 6), dpi=120, facecolor='w', edgecolor='b')\n",
    "x = range(len(X_train.columns))\n",
    "y = ridge.coef_\n",
    "plt.bar( x, y ) \n",
    "plt.xlabel( \"Variables\")\n",
    "plt.ylabel('Coefficients')\n",
    "plt.title('Coefficient plot')"
   ]
  },
  {
   "cell_type": "markdown",
   "id": "70184653",
   "metadata": {},
   "source": [
    "### Plotting the coefficients for Lasso regression considering best hyperparameter"
   ]
  },
  {
   "cell_type": "code",
   "execution_count": 22,
   "id": "a0bbb6d3",
   "metadata": {},
   "outputs": [
    {
     "data": {
      "text/plain": [
       "Text(0.5, 1.0, 'Coefficient plot')"
      ]
     },
     "execution_count": 22,
     "metadata": {},
     "output_type": "execute_result"
    },
    {
     "data": {
      "image/png": "[encoded data removed]",
      "text/plain": [
       "<Figure size 960x720 with 1 Axes>"
      ]
     },
     "metadata": {},
     "output_type": "display_data"
    }
   ],
   "source": [
    "plt.figure(figsize=(8, 6), dpi=120, facecolor='w', edgecolor='b')\n",
    "x = range(len(X_train.columns))\n",
    "y = lasso.coef_\n",
    "plt.bar( x, y ) \n",
    "plt.xlabel( \"Variables\")\n",
    "plt.ylabel('Coefficients')\n",
    "plt.title('Coefficient plot')"
   ]
  },
  {
   "cell_type": "code",
   "execution_count": null,
   "id": "3884470f",
   "metadata": {},
   "outputs": [],
   "source": []
  }
 ],
 "metadata": {
  "kernelspec": {
   "display_name": "Python 3 (ipykernel)",
   "language": "python",
   "name": "python3"
  },
  "language_info": {
   "codemirror_mode": {
    "name": "ipython",
    "version": 3
   },
   "file_extension": ".py",
   "mimetype": "text/x-python",
   "name": "python",
   "nbconvert_exporter": "python",
   "pygments_lexer": "ipython3",
   "version": "3.8.12"
  }
 },
 "nbformat": 4,
 "nbformat_minor": 5
}
