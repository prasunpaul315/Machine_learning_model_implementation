{
 "cells": [
  {
   "cell_type": "markdown",
   "id": "b71465eb",
   "metadata": {},
   "source": [
    "### 1. Do the following.\n",
    "\n",
    "<p>(a) Return the 30x2 matrix where first column presents no. of hours of sunshine and second column presents no. of icecreams sold. Divide the data into training and testing sets.</p>\n",
    "\n",
    "\n",
    "\n",
    "<p>(b) Plot the training data into a figure using the ”plot” command. Set the axes labels using the ”xlabel” and ”ylabel” commands.</p>\n",
    "\n",
    "\n",
    "\n",
    "<p>(c) Apply Least Square Regression to predict the no. of icecreams sold given the no. of\n",
    "hours of sunshine. Plot it using ”plot” command.</p>"
   ]
  },
  {
   "cell_type": "code",
   "execution_count": 2,
   "id": "435a1fe8",
   "metadata": {},
   "outputs": [],
   "source": [
    "# importing necessary libraries and modules\n",
    "\n",
    "import pandas as pd\n",
    "import numpy as np\n",
    "import matplotlib.pyplot as plt\n",
    "import seaborn as sns"
   ]
  },
  {
   "cell_type": "code",
   "execution_count": 3,
   "id": "cc8ce7a3",
   "metadata": {},
   "outputs": [
    {
     "data": {
      "text/html": [
       "<div>\n",
       "<style scoped>\n",
       "    .dataframe tbody tr th:only-of-type {\n",
       "        vertical-align: middle;\n",
       "    }\n",
       "\n",
       "    .dataframe tbody tr th {\n",
       "        vertical-align: top;\n",
       "    }\n",
       "\n",
       "    .dataframe thead th {\n",
       "        text-align: right;\n",
       "    }\n",
       "</style>\n",
       "<table border=\"1\" class=\"dataframe\">\n",
       "  <thead>\n",
       "    <tr style=\"text-align: right;\">\n",
       "      <th></th>\n",
       "      <th>no_of_hours_of_sunshine</th>\n",
       "      <th>no_of_icecreams_sold</th>\n",
       "    </tr>\n",
       "  </thead>\n",
       "  <tbody>\n",
       "    <tr>\n",
       "      <th>0</th>\n",
       "      <td>10.23</td>\n",
       "      <td>60</td>\n",
       "    </tr>\n",
       "    <tr>\n",
       "      <th>1</th>\n",
       "      <td>10.20</td>\n",
       "      <td>58</td>\n",
       "    </tr>\n",
       "    <tr>\n",
       "      <th>2</th>\n",
       "      <td>10.34</td>\n",
       "      <td>68</td>\n",
       "    </tr>\n",
       "    <tr>\n",
       "      <th>3</th>\n",
       "      <td>9.30</td>\n",
       "      <td>45</td>\n",
       "    </tr>\n",
       "    <tr>\n",
       "      <th>4</th>\n",
       "      <td>9.32</td>\n",
       "      <td>55</td>\n",
       "    </tr>\n",
       "    <tr>\n",
       "      <th>5</th>\n",
       "      <td>10.41</td>\n",
       "      <td>47</td>\n",
       "    </tr>\n",
       "    <tr>\n",
       "      <th>6</th>\n",
       "      <td>8.56</td>\n",
       "      <td>53</td>\n",
       "    </tr>\n",
       "    <tr>\n",
       "      <th>7</th>\n",
       "      <td>10.43</td>\n",
       "      <td>54</td>\n",
       "    </tr>\n",
       "    <tr>\n",
       "      <th>8</th>\n",
       "      <td>9.12</td>\n",
       "      <td>67</td>\n",
       "    </tr>\n",
       "    <tr>\n",
       "      <th>9</th>\n",
       "      <td>9.35</td>\n",
       "      <td>55</td>\n",
       "    </tr>\n",
       "    <tr>\n",
       "      <th>10</th>\n",
       "      <td>8.40</td>\n",
       "      <td>45</td>\n",
       "    </tr>\n",
       "    <tr>\n",
       "      <th>11</th>\n",
       "      <td>9.12</td>\n",
       "      <td>47</td>\n",
       "    </tr>\n",
       "    <tr>\n",
       "      <th>12</th>\n",
       "      <td>10.40</td>\n",
       "      <td>50</td>\n",
       "    </tr>\n",
       "    <tr>\n",
       "      <th>13</th>\n",
       "      <td>10.50</td>\n",
       "      <td>67</td>\n",
       "    </tr>\n",
       "    <tr>\n",
       "      <th>14</th>\n",
       "      <td>8.34</td>\n",
       "      <td>58</td>\n",
       "    </tr>\n",
       "    <tr>\n",
       "      <th>15</th>\n",
       "      <td>8.23</td>\n",
       "      <td>45</td>\n",
       "    </tr>\n",
       "    <tr>\n",
       "      <th>16</th>\n",
       "      <td>8.03</td>\n",
       "      <td>38</td>\n",
       "    </tr>\n",
       "    <tr>\n",
       "      <th>17</th>\n",
       "      <td>10.20</td>\n",
       "      <td>39</td>\n",
       "    </tr>\n",
       "    <tr>\n",
       "      <th>18</th>\n",
       "      <td>7.40</td>\n",
       "      <td>33</td>\n",
       "    </tr>\n",
       "    <tr>\n",
       "      <th>19</th>\n",
       "      <td>8.30</td>\n",
       "      <td>49</td>\n",
       "    </tr>\n",
       "    <tr>\n",
       "      <th>20</th>\n",
       "      <td>8.90</td>\n",
       "      <td>35</td>\n",
       "    </tr>\n",
       "    <tr>\n",
       "      <th>21</th>\n",
       "      <td>10.40</td>\n",
       "      <td>47</td>\n",
       "    </tr>\n",
       "    <tr>\n",
       "      <th>22</th>\n",
       "      <td>10.56</td>\n",
       "      <td>53</td>\n",
       "    </tr>\n",
       "    <tr>\n",
       "      <th>23</th>\n",
       "      <td>11.03</td>\n",
       "      <td>52</td>\n",
       "    </tr>\n",
       "    <tr>\n",
       "      <th>24</th>\n",
       "      <td>10.57</td>\n",
       "      <td>47</td>\n",
       "    </tr>\n",
       "    <tr>\n",
       "      <th>25</th>\n",
       "      <td>8.40</td>\n",
       "      <td>40</td>\n",
       "    </tr>\n",
       "    <tr>\n",
       "      <th>26</th>\n",
       "      <td>7.23</td>\n",
       "      <td>30</td>\n",
       "    </tr>\n",
       "    <tr>\n",
       "      <th>27</th>\n",
       "      <td>8.34</td>\n",
       "      <td>52</td>\n",
       "    </tr>\n",
       "    <tr>\n",
       "      <th>28</th>\n",
       "      <td>8.03</td>\n",
       "      <td>44</td>\n",
       "    </tr>\n",
       "    <tr>\n",
       "      <th>29</th>\n",
       "      <td>9.45</td>\n",
       "      <td>45</td>\n",
       "    </tr>\n",
       "  </tbody>\n",
       "</table>\n",
       "</div>"
      ],
      "text/plain": [
       "    no_of_hours_of_sunshine  no_of_icecreams_sold\n",
       "0                     10.23                    60\n",
       "1                     10.20                    58\n",
       "2                     10.34                    68\n",
       "3                      9.30                    45\n",
       "4                      9.32                    55\n",
       "5                     10.41                    47\n",
       "6                      8.56                    53\n",
       "7                     10.43                    54\n",
       "8                      9.12                    67\n",
       "9                      9.35                    55\n",
       "10                     8.40                    45\n",
       "11                     9.12                    47\n",
       "12                    10.40                    50\n",
       "13                    10.50                    67\n",
       "14                     8.34                    58\n",
       "15                     8.23                    45\n",
       "16                     8.03                    38\n",
       "17                    10.20                    39\n",
       "18                     7.40                    33\n",
       "19                     8.30                    49\n",
       "20                     8.90                    35\n",
       "21                    10.40                    47\n",
       "22                    10.56                    53\n",
       "23                    11.03                    52\n",
       "24                    10.57                    47\n",
       "25                     8.40                    40\n",
       "26                     7.23                    30\n",
       "27                     8.34                    52\n",
       "28                     8.03                    44\n",
       "29                     9.45                    45"
      ]
     },
     "execution_count": 3,
     "metadata": {},
     "output_type": "execute_result"
    }
   ],
   "source": [
    "# making dataset\n",
    "\n",
    "data=pd.DataFrame({\n",
    "    'no_of_hours_of_sunshine': [10.23, 10.2, 10.34, 9.30, 9.32, 10.41, 8.56, 10.43, 9.12, 9.35, 8.40, 9.12, 10.4, 10.50, 8.34, 8.23, 8.03, 10.20, 7.4, 8.3, 8.9, 10.4, 10.56, 11.03, 10.57, 8.4, 7.23, 8.34, 8.03, 9.45]\n",
    "    ,'no_of_icecreams_sold' : [60, 58, 68, 45, 55, 47, 53, 54, 67, 55, 45, 47, 50, 67, 58, 45, 38, 39, 33, 49, 35, 47, 53, 52, 47, 40, 30, 52, 44, 45]\n",
    "})\n",
    "data"
   ]
  },
  {
   "cell_type": "code",
   "execution_count": 4,
   "id": "fdf88d3f",
   "metadata": {},
   "outputs": [
    {
     "data": {
      "text/plain": [
       "(30, 2)"
      ]
     },
     "execution_count": 4,
     "metadata": {},
     "output_type": "execute_result"
    }
   ],
   "source": [
    "# shape of dataset\n",
    "\n",
    "data.shape"
   ]
  },
  {
   "cell_type": "code",
   "execution_count": 5,
   "id": "3f21bb6c",
   "metadata": {},
   "outputs": [],
   "source": [
    "X = data.drop('no_of_icecreams_sold', axis = 1)\n",
    "Y = data['no_of_icecreams_sold']"
   ]
  },
  {
   "cell_type": "code",
   "execution_count": 6,
   "id": "c32e4566",
   "metadata": {},
   "outputs": [
    {
     "name": "stdout",
     "output_type": "stream",
     "text": [
      "(20, 1)\n",
      "(10, 1)\n",
      "(20,)\n",
      "(10,)\n"
     ]
    }
   ],
   "source": [
    "# implimenting train_test_split\n",
    "\n",
    "from sklearn.model_selection import train_test_split\n",
    "X_train, X_test, Y_train, Y_test = train_test_split(X, Y, test_size = 0.33, random_state = 32)\n",
    "print(X_train.shape)\n",
    "print(X_test.shape)\n",
    "print(Y_train.shape)\n",
    "print(Y_test.shape)"
   ]
  },
  {
   "cell_type": "code",
   "execution_count": 11,
   "id": "ab10b185",
   "metadata": {},
   "outputs": [
    {
     "data": {
      "text/plain": [
       "pandas.core.frame.DataFrame"
      ]
     },
     "execution_count": 11,
     "metadata": {},
     "output_type": "execute_result"
    }
   ],
   "source": [
    "type(X_test)"
   ]
  },
  {
   "cell_type": "code",
   "execution_count": 7,
   "id": "699586f8",
   "metadata": {},
   "outputs": [
    {
     "data": {
      "image/png": "[encoded data removed]",
      "text/plain": [
       "<Figure size 432x288 with 1 Axes>"
      ]
     },
     "metadata": {
      "needs_background": "light"
     },
     "output_type": "display_data"
    },
    {
     "name": "stdout",
     "output_type": "stream",
     "text": [
      "R^2=  -2.1169082859014026\n"
     ]
    }
   ],
   "source": [
    "# implementing Linear regression\n",
    "\n",
    "from sklearn.linear_model import LinearRegression\n",
    "from sklearn.metrics import r2_score\n",
    "\n",
    "lm = LinearRegression()\n",
    "p=lm.fit(X_train, Y_train)\n",
    "\n",
    "Y_pred = lm.predict(X_test)\n",
    "\n",
    "plt.scatter(data['no_of_hours_of_sunshine'], data['no_of_icecreams_sold'], color= 'blue')\n",
    "plt.xlabel(\"no_of_hours_of_sunshine\")\n",
    "plt.ylabel(\"no_of_icecreams_sold\")\n",
    "plt.title(\"no_of_hours_of_sunshine vs no_of_icecreams_sold\")\n",
    "plt.plot(X_test['no_of_hours_of_sunshine'], Y_pred, color='red')  # red line is constructed by prediction on test data\n",
    "\n",
    "plt.show()\n",
    "print(\"R^2= \",r2_score(Y_pred,Y_test))"
   ]
  },
  {
   "cell_type": "code",
   "execution_count": 9,
   "id": "0af74392",
   "metadata": {},
   "outputs": [
    {
     "data": {
      "text/plain": [
       "10.082009864095511"
      ]
     },
     "execution_count": 9,
     "metadata": {},
     "output_type": "execute_result"
    }
   ],
   "source": [
    "p.intercept_"
   ]
  },
  {
   "cell_type": "code",
   "execution_count": 8,
   "id": "96e1700b",
   "metadata": {},
   "outputs": [
    {
     "data": {
      "text/plain": [
       "array([4.30261063])"
      ]
     },
     "execution_count": 8,
     "metadata": {},
     "output_type": "execute_result"
    }
   ],
   "source": [
    "p.coef_"
   ]
  },
  {
   "cell_type": "code",
   "execution_count": 9,
   "id": "b2647a65",
   "metadata": {},
   "outputs": [
    {
     "data": {
      "text/html": [
       "<div>\n",
       "<style scoped>\n",
       "    .dataframe tbody tr th:only-of-type {\n",
       "        vertical-align: middle;\n",
       "    }\n",
       "\n",
       "    .dataframe tbody tr th {\n",
       "        vertical-align: top;\n",
       "    }\n",
       "\n",
       "    .dataframe thead th {\n",
       "        text-align: right;\n",
       "    }\n",
       "</style>\n",
       "<table border=\"1\" class=\"dataframe\">\n",
       "  <thead>\n",
       "    <tr style=\"text-align: right;\">\n",
       "      <th></th>\n",
       "      <th>index</th>\n",
       "      <th>no_of_hours_of_sunshine</th>\n",
       "      <th>actual_no_of_icecreams_sold</th>\n",
       "      <th>predicted_no_of_icecreams_sold</th>\n",
       "    </tr>\n",
       "  </thead>\n",
       "  <tbody>\n",
       "    <tr>\n",
       "      <th>0</th>\n",
       "      <td>0</td>\n",
       "      <td>10.23</td>\n",
       "      <td>60</td>\n",
       "      <td>54.097717</td>\n",
       "    </tr>\n",
       "    <tr>\n",
       "      <th>1</th>\n",
       "      <td>13</td>\n",
       "      <td>10.50</td>\n",
       "      <td>67</td>\n",
       "      <td>55.259422</td>\n",
       "    </tr>\n",
       "    <tr>\n",
       "      <th>2</th>\n",
       "      <td>6</td>\n",
       "      <td>8.56</td>\n",
       "      <td>53</td>\n",
       "      <td>46.912357</td>\n",
       "    </tr>\n",
       "    <tr>\n",
       "      <th>3</th>\n",
       "      <td>12</td>\n",
       "      <td>10.40</td>\n",
       "      <td>50</td>\n",
       "      <td>54.829160</td>\n",
       "    </tr>\n",
       "    <tr>\n",
       "      <th>4</th>\n",
       "      <td>21</td>\n",
       "      <td>10.40</td>\n",
       "      <td>47</td>\n",
       "      <td>54.829160</td>\n",
       "    </tr>\n",
       "    <tr>\n",
       "      <th>5</th>\n",
       "      <td>15</td>\n",
       "      <td>8.23</td>\n",
       "      <td>45</td>\n",
       "      <td>45.492495</td>\n",
       "    </tr>\n",
       "    <tr>\n",
       "      <th>6</th>\n",
       "      <td>29</td>\n",
       "      <td>9.45</td>\n",
       "      <td>45</td>\n",
       "      <td>50.741680</td>\n",
       "    </tr>\n",
       "    <tr>\n",
       "      <th>7</th>\n",
       "      <td>25</td>\n",
       "      <td>8.40</td>\n",
       "      <td>40</td>\n",
       "      <td>46.223939</td>\n",
       "    </tr>\n",
       "    <tr>\n",
       "      <th>8</th>\n",
       "      <td>17</td>\n",
       "      <td>10.20</td>\n",
       "      <td>39</td>\n",
       "      <td>53.968638</td>\n",
       "    </tr>\n",
       "    <tr>\n",
       "      <th>9</th>\n",
       "      <td>18</td>\n",
       "      <td>7.40</td>\n",
       "      <td>33</td>\n",
       "      <td>41.921329</td>\n",
       "    </tr>\n",
       "  </tbody>\n",
       "</table>\n",
       "</div>"
      ],
      "text/plain": [
       "   index  no_of_hours_of_sunshine  actual_no_of_icecreams_sold  \\\n",
       "0      0                    10.23                           60   \n",
       "1     13                    10.50                           67   \n",
       "2      6                     8.56                           53   \n",
       "3     12                    10.40                           50   \n",
       "4     21                    10.40                           47   \n",
       "5     15                     8.23                           45   \n",
       "6     29                     9.45                           45   \n",
       "7     25                     8.40                           40   \n",
       "8     17                    10.20                           39   \n",
       "9     18                     7.40                           33   \n",
       "\n",
       "   predicted_no_of_icecreams_sold  \n",
       "0                       54.097717  \n",
       "1                       55.259422  \n",
       "2                       46.912357  \n",
       "3                       54.829160  \n",
       "4                       54.829160  \n",
       "5                       45.492495  \n",
       "6                       50.741680  \n",
       "7                       46.223939  \n",
       "8                       53.968638  \n",
       "9                       41.921329  "
      ]
     },
     "execution_count": 9,
     "metadata": {},
     "output_type": "execute_result"
    }
   ],
   "source": [
    "test_data=pd.DataFrame({\n",
    "    'no_of_hours_of_sunshine': X_test['no_of_hours_of_sunshine'],\n",
    "    'actual_no_of_icecreams_sold' : list(Y_test),\n",
    "    'predicted_no_of_icecreams_sold' : list(Y_pred)\n",
    "})\n",
    "\n",
    "test_data.reset_index()"
   ]
  }
 ],
 "metadata": {
  "kernelspec": {
   "display_name": "Python 3 (ipykernel)",
   "language": "python",
   "name": "python3"
  },
  "language_info": {
   "codemirror_mode": {
    "name": "ipython",
    "version": 3
   },
   "file_extension": ".py",
   "mimetype": "text/x-python",
   "name": "python",
   "nbconvert_exporter": "python",
   "pygments_lexer": "ipython3",
   "version": "3.8.12"
  }
 },
 "nbformat": 4,
 "nbformat_minor": 5
}
