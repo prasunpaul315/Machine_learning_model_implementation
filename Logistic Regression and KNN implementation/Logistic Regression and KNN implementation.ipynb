{
 "cells": [
  {
   "cell_type": "markdown",
   "id": "3ccdb955",
   "metadata": {},
   "source": [
    "<p>1. Consider that you are the head of your department and you want to determine each applicant’s chance of PhD admission based on their results on three exams (Written, Presentation, Viva). You have historical data from previous applicants that you can use as a training set. For each training example, you have the applicant’s scores on three exams and the admissions decision. Create the dataset.</p>\n",
    "\n",
    "<p>(a) Use Logistic Regression to see the outputs.</p>\n",
    "\n",
    "\n",
    "<p>(b) Use KNN to see the outputs. Perform K-NN selecting the best value of k and taking Euclidean distance as similarity measure.</p>\n",
    "\n",
    "\n",
    "<p>(c) Use different metrics to check the performance of both the classifiers. Interpret the\n",
    "results.</p>\n",
    "\n",
    "\n",
    "<b>used dataset link [phd_admission_dataset.csv]  (https://drive.google.com/file/d/12Gw_HZ1faZ0DLiRHLqh2xfHqPKFsNTFe/view?usp=sharing)."
   ]
  },
  {
   "cell_type": "code",
   "execution_count": null,
   "id": "e5f3ef47",
   "metadata": {},
   "outputs": [],
   "source": []
  },
  {
   "cell_type": "markdown",
   "id": "a99bf82b",
   "metadata": {},
   "source": [
    "### Importing Libraries"
   ]
  },
  {
   "cell_type": "code",
   "execution_count": 1,
   "id": "3e816b71",
   "metadata": {},
   "outputs": [],
   "source": [
    "import pandas as pd\n",
    "import seaborn as sns\n",
    "import matplotlib.pyplot as plt\n",
    "import numpy as np\n",
    "import matplotlib.pyplot as plt\n",
    "from sklearn.model_selection import train_test_split\n",
    "from tqdm import tqdm\n",
    "from sklearn.linear_model import LogisticRegression\n",
    "from sklearn.metrics import f1_score\n",
    "import seaborn as sns\n",
    "from sklearn.model_selection import GridSearchCV\n",
    "import warnings\n",
    "warnings.filterwarnings(\"ignore\")\n",
    "from sklearn.neighbors import KNeighborsClassifier\n",
    "from sklearn.metrics import roc_auc_score\n",
    "from sklearn.metrics import roc_curve, auc"
   ]
  },
  {
   "cell_type": "code",
   "execution_count": 2,
   "id": "a2c60f8d",
   "metadata": {},
   "outputs": [
    {
     "data": {
      "text/html": [
       "<div>\n",
       "<style scoped>\n",
       "    .dataframe tbody tr th:only-of-type {\n",
       "        vertical-align: middle;\n",
       "    }\n",
       "\n",
       "    .dataframe tbody tr th {\n",
       "        vertical-align: top;\n",
       "    }\n",
       "\n",
       "    .dataframe thead th {\n",
       "        text-align: right;\n",
       "    }\n",
       "</style>\n",
       "<table border=\"1\" class=\"dataframe\">\n",
       "  <thead>\n",
       "    <tr style=\"text-align: right;\">\n",
       "      <th></th>\n",
       "      <th>written</th>\n",
       "      <th>presentation</th>\n",
       "      <th>viva</th>\n",
       "      <th>admission_chance</th>\n",
       "    </tr>\n",
       "  </thead>\n",
       "  <tbody>\n",
       "    <tr>\n",
       "      <th>0</th>\n",
       "      <td>148</td>\n",
       "      <td>72</td>\n",
       "      <td>50</td>\n",
       "      <td>1</td>\n",
       "    </tr>\n",
       "    <tr>\n",
       "      <th>1</th>\n",
       "      <td>85</td>\n",
       "      <td>66</td>\n",
       "      <td>31</td>\n",
       "      <td>0</td>\n",
       "    </tr>\n",
       "    <tr>\n",
       "      <th>2</th>\n",
       "      <td>183</td>\n",
       "      <td>64</td>\n",
       "      <td>32</td>\n",
       "      <td>1</td>\n",
       "    </tr>\n",
       "    <tr>\n",
       "      <th>3</th>\n",
       "      <td>89</td>\n",
       "      <td>66</td>\n",
       "      <td>21</td>\n",
       "      <td>0</td>\n",
       "    </tr>\n",
       "    <tr>\n",
       "      <th>4</th>\n",
       "      <td>137</td>\n",
       "      <td>40</td>\n",
       "      <td>33</td>\n",
       "      <td>1</td>\n",
       "    </tr>\n",
       "  </tbody>\n",
       "</table>\n",
       "</div>"
      ],
      "text/plain": [
       "   written  presentation  viva  admission_chance\n",
       "0      148            72    50                 1\n",
       "1       85            66    31                 0\n",
       "2      183            64    32                 1\n",
       "3       89            66    21                 0\n",
       "4      137            40    33                 1"
      ]
     },
     "execution_count": 2,
     "metadata": {},
     "output_type": "execute_result"
    }
   ],
   "source": [
    "url = 'https://drive.google.com/file/d/12Gw_HZ1faZ0DLiRHLqh2xfHqPKFsNTFe/view?usp=sharing'\n",
    "path = 'https://drive.google.com/uc?export=download&id='+url.split('/')[-2]\n",
    "data=pd.read_csv(path)\n",
    "data.head()"
   ]
  },
  {
   "cell_type": "code",
   "execution_count": 3,
   "id": "13fdd40e",
   "metadata": {},
   "outputs": [
    {
     "data": {
      "text/plain": [
       "0    500\n",
       "1    268\n",
       "Name: admission_chance, dtype: int64"
      ]
     },
     "execution_count": 3,
     "metadata": {},
     "output_type": "execute_result"
    }
   ],
   "source": [
    "# 0 defines no\n",
    "# 1 defines yes\n",
    "\n",
    "data['admission_chance'].value_counts()"
   ]
  },
  {
   "cell_type": "code",
   "execution_count": 4,
   "id": "df7625b6",
   "metadata": {},
   "outputs": [
    {
     "data": {
      "image/png": "[encoded data removed]",
      "text/plain": [
       "<Figure size 432x288 with 1 Axes>"
      ]
     },
     "metadata": {
      "needs_background": "light"
     },
     "output_type": "display_data"
    }
   ],
   "source": [
    "sns.countplot(x='admission_chance', data=data, palette='hls' )\n",
    "plt.show()"
   ]
  },
  {
   "cell_type": "markdown",
   "id": "a62f851d",
   "metadata": {},
   "source": [
    "### Segregating variables: Independent and Dependent Variables"
   ]
  },
  {
   "cell_type": "code",
   "execution_count": 5,
   "id": "a501f99e",
   "metadata": {},
   "outputs": [],
   "source": [
    "X = data.drop('admission_chance', axis = 1)\n",
    "y = data['admission_chance']"
   ]
  },
  {
   "cell_type": "code",
   "execution_count": null,
   "id": "35ea4ffa",
   "metadata": {},
   "outputs": [],
   "source": []
  },
  {
   "cell_type": "markdown",
   "id": "c98804ca",
   "metadata": {},
   "source": [
    "### Splitting the data into train set, cross validation set and the test set"
   ]
  },
  {
   "cell_type": "code",
   "execution_count": 6,
   "id": "2e08041d",
   "metadata": {},
   "outputs": [],
   "source": [
    "X_train, X_test, y_train, y_test = train_test_split(X, y, test_size=0.2, random_state=48, stratify=y)"
   ]
  },
  {
   "cell_type": "code",
   "execution_count": 7,
   "id": "681448f2",
   "metadata": {},
   "outputs": [
    {
     "name": "stdout",
     "output_type": "stream",
     "text": [
      "train data: (614, 3) (614,)\n",
      "test data:  (154, 3) (154,)\n"
     ]
    }
   ],
   "source": [
    "print(\"train data:\", X_train.shape, y_train.shape)\n",
    "print(\"test data: \", X_test.shape, y_test.shape)"
   ]
  },
  {
   "cell_type": "markdown",
   "id": "0af18b96",
   "metadata": {},
   "source": [
    "### (a) Use Logistic Regression"
   ]
  },
  {
   "cell_type": "code",
   "execution_count": 8,
   "id": "fc6f1e9e",
   "metadata": {},
   "outputs": [
    {
     "data": {
      "text/plain": [
       "LogisticRegression(random_state=15)"
      ]
     },
     "execution_count": 8,
     "metadata": {},
     "output_type": "execute_result"
    }
   ],
   "source": [
    "clf = LogisticRegression(penalty='l2', random_state=15)\n",
    "clf.fit(X_train, y_train)"
   ]
  },
  {
   "cell_type": "code",
   "execution_count": 9,
   "id": "1e5734be",
   "metadata": {},
   "outputs": [
    {
     "name": "stdout",
     "output_type": "stream",
     "text": [
      "train f1_score  0.586021505376344\n"
     ]
    }
   ],
   "source": [
    "train_pred = clf.predict(X_train)\n",
    "train_f1 = f1_score(y_train, train_pred)\n",
    "print(\"train f1_score \", train_f1)"
   ]
  },
  {
   "cell_type": "code",
   "execution_count": 10,
   "id": "f04a64a3",
   "metadata": {},
   "outputs": [
    {
     "name": "stdout",
     "output_type": "stream",
     "text": [
      "test f1_score  0.553191489361702\n"
     ]
    }
   ],
   "source": [
    "test_pred = clf.predict(X_test)\n",
    "test_f1 = f1_score(y_test, test_pred)\n",
    "print(\"test f1_score \", test_f1)"
   ]
  },
  {
   "cell_type": "markdown",
   "id": "bd77233a",
   "metadata": {},
   "source": [
    "### Hyperparameter tuning for Logistic regression (C)"
   ]
  },
  {
   "cell_type": "code",
   "execution_count": 13,
   "id": "63fafbd4",
   "metadata": {},
   "outputs": [
    {
     "name": "stdout",
     "output_type": "stream",
     "text": [
      "Fitting 3 folds for each of 9 candidates, totalling 27 fits\n",
      "best C for given dataset 0.1\n",
      "tested hyperparameter [0.001 0.05 0.01 0.1 0.5 1 5 10 50]\n"
     ]
    },
    {
     "data": {
      "image/png": "[encoded data removed]",
      "text/plain": [
       "<Figure size 432x288 with 1 Axes>"
      ]
     },
     "metadata": {
      "needs_background": "light"
     },
     "output_type": "display_data"
    }
   ],
   "source": [
    "lr=LogisticRegression(penalty='l2', random_state=15)\n",
    "param_grid= {\"C\": [0.001,0.05,0.01,0.1,0.5,1,5,10,50]}\n",
    "\n",
    "\n",
    "clf=GridSearchCV(lr, param_grid, cv=3, scoring='roc_auc', verbose=1, return_train_score=True)\n",
    "clf.fit(X_train, y_train)\n",
    "#print(\"best C for given dataset\",clf.best_params_)\n",
    "best_C=clf.best_params_['C']\n",
    "print(\"best C for given dataset\",best_C)\n",
    "train_auc=clf.cv_results_['mean_train_score']\n",
    "train_auc_std=clf.cv_results_['std_train_score']\n",
    "cv_auc=clf.cv_results_['mean_test_score'] \n",
    "cv_auc_std=clf.cv_results_['std_test_score']\n",
    "\n",
    "C =  clf.cv_results_['param_C']\n",
    "print(\"tested hyperparameter\",C)\n",
    "\n",
    "results = pd.DataFrame.from_dict(clf.cv_results_)\n",
    "results = results.sort_values(['param_C'])\n",
    "\n",
    "plt.semilogx(C, train_auc, label='Train AUC')\n",
    "\n",
    "plt.semilogx(C, cv_auc, label='Test AUC')\n",
    "\n",
    "plt.scatter(C, train_auc, label='Train AUC points')\n",
    "plt.scatter(C, cv_auc, label='Test AUC points')\n",
    "\n",
    "plt.legend()\n",
    "plt.xlabel(\"C: hyperparameter\")\n",
    "plt.ylabel(\"AUC\")\n",
    "plt.title(\"Hyper parameter Vs AUC plot\")\n",
    "plt.grid()\n",
    "plt.show()\n",
    "\n",
    "#results.head(5)"
   ]
  },
  {
   "cell_type": "code",
   "execution_count": 12,
   "id": "207ecd98",
   "metadata": {},
   "outputs": [
    {
     "data": {
      "text/plain": [
       "LogisticRegression(C=0.1, random_state=15)"
      ]
     },
     "execution_count": 12,
     "metadata": {},
     "output_type": "execute_result"
    }
   ],
   "source": [
    "# retraining model using best hyperparameter\n",
    "\n",
    "clf = LogisticRegression(penalty='l2', random_state=15, C=best_C)\n",
    "clf.fit(X_train, y_train)"
   ]
  },
  {
   "cell_type": "code",
   "execution_count": 13,
   "id": "2627a905",
   "metadata": {},
   "outputs": [
    {
     "name": "stdout",
     "output_type": "stream",
     "text": [
      "test f1_score  0.553191489361702\n"
     ]
    }
   ],
   "source": [
    "# f1_score for test data\n",
    "\n",
    "test_pred = clf.predict(X_test)\n",
    "test_f1 = f1_score(y_test, test_pred)\n",
    "print(\"test f1_score \", test_f1)"
   ]
  },
  {
   "cell_type": "markdown",
   "id": "e8f1e76b",
   "metadata": {},
   "source": [
    "####  Testing the performance of the model on test data, plotting ROC Curves"
   ]
  },
  {
   "cell_type": "code",
   "execution_count": 14,
   "id": "4b6569c8",
   "metadata": {},
   "outputs": [
    {
     "data": {
      "image/png": "[encoded data removed]",
      "text/plain": [
       "<Figure size 432x288 with 1 Axes>"
      ]
     },
     "metadata": {
      "needs_background": "light"
     },
     "output_type": "display_data"
    }
   ],
   "source": [
    "# https://scikit-learn.org/stable/modules/generated/sklearn.metrics.roc_curve.html#sklearn.metrics.roc_curve\n",
    "            \n",
    "lr = LogisticRegression(penalty='l2', random_state=15, C=best_C)\n",
    "lr.fit(X_train, y_train)\n",
    "# roc_auc_score(y_true, y_score) the 2nd parameter should be probability estimates of the positive class\n",
    "# not the predicted outputs\n",
    "\n",
    "y_train_pred = lr.predict(X_train)\n",
    "y_test_pred = lr.predict(X_test)\n",
    "\n",
    "train_fpr, train_tpr, tr_thresholds = roc_curve(y_train, y_train_pred)\n",
    "test_fpr, test_tpr, te_thresholds = roc_curve(y_test, y_test_pred)\n",
    "\n",
    "plt.plot(train_fpr, train_tpr, label=\"train AUC =\"+str(auc(train_fpr, train_tpr)))\n",
    "plt.plot(test_fpr, test_tpr, label=\"test AUC =\"+str(auc(test_fpr, test_tpr)))\n",
    "auc_logistic = auc(test_fpr, test_tpr)\n",
    "plt.legend()\n",
    "plt.xlabel(\"alpha: hyperparameter\")\n",
    "plt.ylabel(\"AUC\")\n",
    "plt.title(\"ERROR PLOTS\")\n",
    "plt.grid()\n",
    "plt.show()\n",
    "#print(auc_logistic)"
   ]
  },
  {
   "cell_type": "code",
   "execution_count": null,
   "id": "370cf411",
   "metadata": {},
   "outputs": [],
   "source": []
  },
  {
   "cell_type": "code",
   "execution_count": 15,
   "id": "7342470a",
   "metadata": {},
   "outputs": [],
   "source": [
    "# we are writing our own function for predict, with defined thresould\n",
    "# we will pick a threshold that will give the least fpr\n",
    "def find_best_threshold(threshould, fpr, tpr):\n",
    "    t = threshould[np.argmax(tpr*(1-fpr))]\n",
    "    # (tpr*(1-fpr)) will be maximum if your fpr is very low and tpr is very high\n",
    "    print(\"the maximum value of tpr*(1-fpr)\", max(tpr*(1-fpr)), \"for threshold\", np.round(t,3))\n",
    "    return t\n",
    "\n",
    "def predict_with_best_t(proba, threshould):\n",
    "    predictions = []\n",
    "    for i in proba:\n",
    "        if i>=threshould:\n",
    "            predictions.append(1)\n",
    "        else:\n",
    "            predictions.append(0)\n",
    "    return predictions"
   ]
  },
  {
   "cell_type": "code",
   "execution_count": 16,
   "id": "6b9b06a9",
   "metadata": {},
   "outputs": [
    {
     "name": "stdout",
     "output_type": "stream",
     "text": [
      "the maximum value of tpr*(1-fpr) 0.44695093457943924 for threshold 1\n"
     ]
    },
    {
     "data": {
      "image/png": "[encoded data removed]",
      "text/plain": [
       "<Figure size 432x288 with 4 Axes>"
      ]
     },
     "metadata": {
      "needs_background": "light"
     },
     "output_type": "display_data"
    }
   ],
   "source": [
    "#print(\"=\"*100)\n",
    "from sklearn.metrics import confusion_matrix\n",
    "best_t = find_best_threshold(tr_thresholds, train_fpr, train_tpr)\n",
    "\n",
    "plt.subplot(1, 2, 1) # row 1, col 2 index 1\n",
    "#print(\"Train confusion matrix\")\n",
    "cm_train_bow = confusion_matrix(y_train, predict_with_best_t(y_train_pred, best_t))\n",
    "sns.heatmap(cm_train_bow, annot=True,fmt=\"d\",cmap='Blues')\n",
    "plt.title(\"Train confusion matrix\")\n",
    "plt.ylabel('Actal Values')\n",
    "plt.xlabel('Predicted Values')\n",
    "\n",
    "plt.subplot(1, 2, 2) # index 2\n",
    "#print(\"Test confusion matrix\")\n",
    "cm_test_bow = confusion_matrix(y_test, predict_with_best_t(y_test_pred, best_t))\n",
    "sns.heatmap(cm_test_bow, annot=True,fmt=\"d\",cmap='Blues')\n",
    "plt.title(\"Test confusion matrix\")\n",
    "plt.ylabel('Actal Values')\n",
    "plt.xlabel('Predicted Values')\n",
    "\n",
    "plt.tight_layout(4)\n",
    "plt.show()"
   ]
  },
  {
   "cell_type": "code",
   "execution_count": null,
   "id": "1ac96185",
   "metadata": {},
   "outputs": [],
   "source": []
  },
  {
   "cell_type": "code",
   "execution_count": null,
   "id": "ee8536a9",
   "metadata": {},
   "outputs": [],
   "source": []
  },
  {
   "cell_type": "markdown",
   "id": "3693f39d",
   "metadata": {},
   "source": [
    "### (b) Use KNN"
   ]
  },
  {
   "cell_type": "code",
   "execution_count": 17,
   "id": "fc15b2e0",
   "metadata": {},
   "outputs": [
    {
     "data": {
      "text/plain": [
       "KNeighborsClassifier(n_jobs=-1)"
      ]
     },
     "execution_count": 17,
     "metadata": {},
     "output_type": "execute_result"
    }
   ],
   "source": [
    "clf = KNeighborsClassifier(n_jobs=-1)\n",
    "clf.fit(X_train, y_train)"
   ]
  },
  {
   "cell_type": "code",
   "execution_count": 18,
   "id": "1f3f7ea8",
   "metadata": {},
   "outputs": [
    {
     "name": "stdout",
     "output_type": "stream",
     "text": [
      "train f1_score  0.7360774818401936\n"
     ]
    }
   ],
   "source": [
    "train_pred = clf.predict(X_train)\n",
    "train_f1 = f1_score(y_train, train_pred)\n",
    "print(\"train f1_score \", train_f1)"
   ]
  },
  {
   "cell_type": "code",
   "execution_count": 19,
   "id": "f97721d3",
   "metadata": {},
   "outputs": [
    {
     "name": "stdout",
     "output_type": "stream",
     "text": [
      "test f1_score  0.6153846153846153\n"
     ]
    }
   ],
   "source": [
    "test_pred = clf.predict(X_test)\n",
    "test_f1 = f1_score(y_test, test_pred)\n",
    "print(\"test f1_score \", test_f1)"
   ]
  },
  {
   "cell_type": "code",
   "execution_count": null,
   "id": "70490286",
   "metadata": {},
   "outputs": [],
   "source": []
  },
  {
   "cell_type": "markdown",
   "id": "d557fa92",
   "metadata": {},
   "source": [
    "### Hyperparameter tuning for KNeighborsClassifier (K)"
   ]
  },
  {
   "cell_type": "code",
   "execution_count": 20,
   "id": "f3edeeba",
   "metadata": {},
   "outputs": [
    {
     "name": "stdout",
     "output_type": "stream",
     "text": [
      "Fitting 3 folds for each of 34 candidates, totalling 102 fits\n",
      "best K for given dataset 27\n",
      "tested hyperparameter  [3 5 7 9 11 13 15 17 19 21 23 25 27 29 31 33 35 37 39 41 43 45 47 49 51 53\n",
      " 55 57 59 61 63 65 67 69]\n"
     ]
    },
    {
     "data": {
      "image/png": "[encoded data removed]",
      "text/plain": [
       "<Figure size 432x288 with 1 Axes>"
      ]
     },
     "metadata": {
      "needs_background": "light"
     },
     "output_type": "display_data"
    }
   ],
   "source": [
    "knn=KNeighborsClassifier()\n",
    "param_grid= {\"n_neighbors\": np.arange(3,70,2)}\n",
    "\n",
    "\n",
    "clf=GridSearchCV(knn, param_grid, cv=3, scoring='roc_auc', verbose=1, return_train_score=True)\n",
    "clf.fit(X_train, y_train)\n",
    "#print(\"best C for given dataset\",clf.best_params_)\n",
    "best_K=clf.best_params_['n_neighbors']\n",
    "print(\"best K for given dataset\",best_K)\n",
    "train_auc=clf.cv_results_['mean_train_score']\n",
    "train_auc_std=clf.cv_results_['std_train_score']\n",
    "cv_auc=clf.cv_results_['mean_test_score'] \n",
    "cv_auc_std=clf.cv_results_['std_test_score']\n",
    "\n",
    "K =  clf.cv_results_['param_n_neighbors']\n",
    "print(\"tested hyperparameter \",K)\n",
    "\n",
    "results = pd.DataFrame.from_dict(clf.cv_results_)\n",
    "results = results.sort_values(['param_n_neighbors'])\n",
    "\n",
    "plt.plot(K, train_auc, label='Train AUC')\n",
    "\n",
    "plt.plot(K, cv_auc, label='Test AUC')\n",
    "\n",
    "plt.scatter(K, train_auc, label='Train AUC points')\n",
    "plt.scatter(K, cv_auc, label='Test AUC points')\n",
    "\n",
    "plt.legend()\n",
    "plt.xlabel(\"K: hyperparameter\")\n",
    "plt.ylabel(\"AUC\")\n",
    "plt.title(\"Hyper parameter Vs AUC plot\")\n",
    "plt.grid()\n",
    "plt.show()\n",
    "\n",
    "#results.head(5)"
   ]
  },
  {
   "cell_type": "code",
   "execution_count": null,
   "id": "80322caf",
   "metadata": {},
   "outputs": [],
   "source": []
  },
  {
   "cell_type": "code",
   "execution_count": 21,
   "id": "404c44cb",
   "metadata": {},
   "outputs": [
    {
     "data": {
      "text/plain": [
       "KNeighborsClassifier(n_jobs=-1, n_neighbors=27)"
      ]
     },
     "execution_count": 21,
     "metadata": {},
     "output_type": "execute_result"
    }
   ],
   "source": [
    "# retraining model using best hyperparameter\n",
    "\n",
    "clf = KNeighborsClassifier(n_jobs=-1, n_neighbors=best_K)\n",
    "clf.fit(X_train, y_train)"
   ]
  },
  {
   "cell_type": "code",
   "execution_count": 22,
   "id": "030f316f",
   "metadata": {},
   "outputs": [
    {
     "name": "stdout",
     "output_type": "stream",
     "text": [
      "test f1_score  0.606060606060606\n"
     ]
    }
   ],
   "source": [
    "# f1_score for test data\n",
    "\n",
    "test_pred = clf.predict(X_test)\n",
    "test_f1 = f1_score(y_test, test_pred)\n",
    "print(\"test f1_score \", test_f1)"
   ]
  },
  {
   "cell_type": "code",
   "execution_count": null,
   "id": "be4daf9b",
   "metadata": {},
   "outputs": [],
   "source": []
  },
  {
   "cell_type": "markdown",
   "id": "32f66043",
   "metadata": {},
   "source": [
    "####  Testing the performance of the model on test data, plotting ROC Curves"
   ]
  },
  {
   "cell_type": "code",
   "execution_count": 23,
   "id": "33e3047b",
   "metadata": {},
   "outputs": [
    {
     "data": {
      "image/png": "[encoded data removed]",
      "text/plain": [
       "<Figure size 432x288 with 1 Axes>"
      ]
     },
     "metadata": {
      "needs_background": "light"
     },
     "output_type": "display_data"
    }
   ],
   "source": [
    "# https://scikit-learn.org/stable/modules/generated/sklearn.metrics.roc_curve.html#sklearn.metrics.roc_curve\n",
    "            \n",
    "lr = KNeighborsClassifier(n_jobs=-1, n_neighbors=best_K)\n",
    "lr.fit(X_train, y_train)\n",
    "# roc_auc_score(y_true, y_score) the 2nd parameter should be probability estimates of the positive class\n",
    "# not the predicted outputs\n",
    "\n",
    "y_train_pred = lr.predict(X_train)\n",
    "y_test_pred = lr.predict(X_test)\n",
    "\n",
    "train_fpr, train_tpr, tr_thresholds = roc_curve(y_train, y_train_pred)\n",
    "test_fpr, test_tpr, te_thresholds = roc_curve(y_test, y_test_pred)\n",
    "\n",
    "plt.plot(train_fpr, train_tpr, label=\"train AUC =\"+str(auc(train_fpr, train_tpr)))\n",
    "plt.plot(test_fpr, test_tpr, label=\"test AUC =\"+str(auc(test_fpr, test_tpr)))\n",
    "auc_knn = auc(test_fpr, test_tpr)\n",
    "plt.legend()\n",
    "plt.xlabel(\"alpha: hyperparameter\")\n",
    "plt.ylabel(\"AUC\")\n",
    "plt.title(\"ERROR PLOTS\")\n",
    "plt.grid()\n",
    "plt.show()\n",
    "#print(auc_knn)"
   ]
  },
  {
   "cell_type": "code",
   "execution_count": 24,
   "id": "77d9d63f",
   "metadata": {},
   "outputs": [
    {
     "name": "stdout",
     "output_type": "stream",
     "text": [
      "the maximum value of tpr*(1-fpr) 0.49455607476635505 for threshold 1\n"
     ]
    },
    {
     "data": {
      "image/png": "[encoded data removed]",
      "text/plain": [
       "<Figure size 432x288 with 4 Axes>"
      ]
     },
     "metadata": {
      "needs_background": "light"
     },
     "output_type": "display_data"
    }
   ],
   "source": [
    "#print(\"=\"*100)\n",
    "from sklearn.metrics import confusion_matrix\n",
    "best_t = find_best_threshold(tr_thresholds, train_fpr, train_tpr)\n",
    "\n",
    "plt.subplot(1, 2, 1) # row 1, col 2 index 1\n",
    "#print(\"Train confusion matrix\")\n",
    "cm_train_bow = confusion_matrix(y_train, predict_with_best_t(y_train_pred, best_t))\n",
    "sns.heatmap(cm_train_bow, annot=True,fmt=\"d\",cmap='Blues')\n",
    "plt.title(\"Train confusion matrix\")\n",
    "plt.ylabel('Actal Values')\n",
    "plt.xlabel('Predicted Values')\n",
    "\n",
    "plt.subplot(1, 2, 2) # index 2\n",
    "#print(\"Test confusion matrix\")\n",
    "cm_test_bow = confusion_matrix(y_test, predict_with_best_t(y_test_pred, best_t))\n",
    "sns.heatmap(cm_test_bow, annot=True,fmt=\"d\",cmap='Blues')\n",
    "plt.title(\"Test confusion matrix\")\n",
    "plt.ylabel('Actal Values')\n",
    "plt.xlabel('Predicted Values')\n",
    "\n",
    "plt.tight_layout(4)\n",
    "plt.show()"
   ]
  },
  {
   "cell_type": "code",
   "execution_count": null,
   "id": "4c177127",
   "metadata": {},
   "outputs": [],
   "source": []
  },
  {
   "cell_type": "markdown",
   "id": "38c55b4f",
   "metadata": {},
   "source": [
    "## Summary"
   ]
  },
  {
   "cell_type": "code",
   "execution_count": 25,
   "id": "07d072e1",
   "metadata": {},
   "outputs": [
    {
     "name": "stdout",
     "output_type": "stream",
     "text": [
      "+----------------------+----------------+--------------------+\n",
      "|        Model         | Hyperparameter |        AUC         |\n",
      "+----------------------+----------------+--------------------+\n",
      "|  LogisticRegression  |      0.1       | 0.6707407407407406 |\n",
      "| KNeighborsClassifier |       27       | 0.7027777777777777 |\n",
      "+----------------------+----------------+--------------------+\n"
     ]
    }
   ],
   "source": [
    "# http://zetcode.com/python/prettytable/\n",
    "from prettytable import PrettyTable\n",
    "\n",
    "x = PrettyTable()\n",
    "x.field_names = [\"Model\", \"Hyperparameter\", \"AUC\"]\n",
    "\n",
    "x.add_row([\"LogisticRegression\", best_C, auc_logistic])\n",
    "x.add_row([\"KNeighborsClassifier\", best_K, auc_knn])\n",
    "print(x)"
   ]
  },
  {
   "cell_type": "code",
   "execution_count": null,
   "id": "1b427f47",
   "metadata": {},
   "outputs": [],
   "source": []
  },
  {
   "cell_type": "code",
   "execution_count": null,
   "id": "6352fdc4",
   "metadata": {},
   "outputs": [],
   "source": []
  }
 ],
 "metadata": {
  "kernelspec": {
   "display_name": "Python 3 (ipykernel)",
   "language": "python",
   "name": "python3"
  },
  "language_info": {
   "codemirror_mode": {
    "name": "ipython",
    "version": 3
   },
   "file_extension": ".py",
   "mimetype": "text/x-python",
   "name": "python",
   "nbconvert_exporter": "python",
   "pygments_lexer": "ipython3",
   "version": "3.8.12"
  }
 },
 "nbformat": 4,
 "nbformat_minor": 5
}
